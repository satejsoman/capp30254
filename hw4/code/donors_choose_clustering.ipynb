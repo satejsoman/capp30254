{
 "cells": [
  {
   "cell_type": "code",
   "execution_count": 1,
   "metadata": {},
   "outputs": [],
   "source": [
    "import datetime\n",
    "import os\n",
    "from itertools import cycle\n",
    "from pathlib import Path\n",
    "\n",
    "import matplotlib.pyplot as plt\n",
    "import numpy as np\n",
    "import pandas as pd\n",
    "import yaml\n",
    "from tqdm import tqdm\n",
    "\n",
    "from donors_choose_transformations import *\n",
    "from pipeline.core import Pipeline\n",
    "from pipeline.grid import Grid\n",
    "from pipeline.splitter import Splitter\n",
    "from pipeline.transformation import (Transformation, binarize, categorize,\n",
    "                                     replace_missing_with_value, scale_by_max,\n",
    "                                     to_datetime)\n",
    "\n",
    "from sklearn.cluster import KMeans\n",
    "from scipy.spatial.distance import cdist\n",
    "\n",
    "tqdm.pandas()\n",
    "\n",
    "%load_ext autoreload\n",
    "%autoreload 2 \n",
    "%matplotlib inline "
   ]
  },
  {
   "cell_type": "markdown",
   "metadata": {},
   "source": [
    "# 0/ pipeline configuration and instantiation\n",
    "### load pipeline configuration from file and create `Pipeline` object\n",
    "\n",
    "### to override the values of $k$ or the input dataset set in `config.yml`, update the variable in the cell below:"
   ]
  },
  {
   "cell_type": "code",
   "execution_count": 2,
   "metadata": {},
   "outputs": [],
   "source": [
    "k_overrides = []\n",
    "override_dataset = None"
   ]
  },
  {
   "cell_type": "code",
   "execution_count": 3,
   "metadata": {},
   "outputs": [],
   "source": [
    "notebook_path = Path(os.path.abspath(''))\n",
    "config_file   = 'config.yml'\n",
    "\n",
    "with open(notebook_path/config_file, 'rb') as cnfg:\n",
    "    config = yaml.safe_load(cnfg.read())\n",
    "\n",
    "pipeline_name = config[\"pipeline\"][\"name\"] if not override_dataset else override_dataset\n",
    "input_path    = notebook_path/config[\"data\"][\"input_path\"]\n",
    "output_dir    = notebook_path/config[\"data\"][\"output_dir\"]\n",
    "target        = config[\"pipeline\"][\"target\"]\n",
    "splitter      = Splitter.from_config(config[\"pipeline\"][\"test_train\"])\n",
    "\n",
    "if not k_overrides:\n",
    "    model_grid = Grid.from_config(config[\"models\"])\n",
    "else: \n",
    "    model_grid = Grid([{\n",
    "        \"KMeans-n_clusters-{}\".format(k): KMeans(n_clusters=k) for k in k_overrides\n",
    "    }])"
   ]
  },
  {
   "cell_type": "code",
   "execution_count": 4,
   "metadata": {},
   "outputs": [],
   "source": [
    "pipeline = Pipeline(\n",
    "    name            = pipeline_name,\n",
    "    input_source    = input_path,\n",
    "    target          = target,\n",
    "    splitter        = splitter,\n",
    "    model_grid      = model_grid,\n",
    "    output_root_dir = output_dir,\n",
    "    verbose         = True,\n",
    "    positive_label  = 1,\n",
    "    data_cleaning   = [\n",
    "        to_datetime(\"date_posted\"),\n",
    "        to_datetime(\"datefullyfunded\"),\n",
    "        month_posted,\n",
    "        funded_in_60_days],\n",
    "    data_preprocessors = [\n",
    "        replace_missing_with_value(\"students_reached\", 0)\n",
    "    ],\n",
    "    feature_generators = [\n",
    "        categorize(\"school_city\"),\n",
    "        categorize(\"school_state\"),\n",
    "        categorize(\"primary_focus_subject\"),\n",
    "        categorize(\"primary_focus_area\"),\n",
    "        categorize(\"resource_type\"),\n",
    "        categorize(\"poverty_level\"),\n",
    "        categorize(\"grade_level\"),\n",
    "        binarize(\"school_charter\", true_value=\"t\"),\n",
    "        binarize(\"school_magnet\", true_value=\"t\"),\n",
    "        scale_by_max(\"students_reached_clean\"),\n",
    "        scale_by_max(\"total_price_including_optional_support\"),\n",
    "        binarize(\"eligible_double_your_impact_match\", true_value=\"t\"),\n",
    "    ])"
   ]
  },
  {
   "cell_type": "markdown",
   "metadata": {},
   "source": [
    "# 1/ load data"
   ]
  },
  {
   "cell_type": "code",
   "execution_count": 5,
   "metadata": {},
   "outputs": [
    {
     "name": "stdout",
     "output_type": "stream",
     "text": [
      "Loading data\n"
     ]
    }
   ],
   "source": [
    "pipeline = pipeline.load_data()"
   ]
  },
  {
   "cell_type": "markdown",
   "metadata": {},
   "source": [
    "# 2/ preprocess and generate features"
   ]
  },
  {
   "cell_type": "code",
   "execution_count": 6,
   "metadata": {},
   "outputs": [
    {
     "name": "stdout",
     "output_type": "stream",
     "text": [
      "\n",
      "Running transformations for cleaning\n",
      "    Applying transformation (1/4): convert-date_posted-to-datetime \n",
      "    date_posted -> date_posted\n",
      "    Applying transformation (2/4): convert-datefullyfunded-to-datetime \n",
      "    datefullyfunded -> datefullyfunded\n",
      "    Applying transformation (3/4): month_posted \n",
      "    ['date_posted'] -> month_posted\n",
      "    Applying transformation (4/4): funded_in_60_days \n",
      "    ['date_posted', 'datefullyfunded'] -> funded_in_60_days\n"
     ]
    },
    {
     "name": "stderr",
     "output_type": "stream",
     "text": [
      "100%|██████████| 124976/124976 [00:08<00:00, 15200.20it/s]"
     ]
    },
    {
     "name": "stdout",
     "output_type": "stream",
     "text": [
      "\n"
     ]
    },
    {
     "name": "stderr",
     "output_type": "stream",
     "text": [
      "\n"
     ]
    },
    {
     "name": "stdout",
     "output_type": "stream",
     "text": [
      "\n",
      "Running transformations for preprocessing\n",
      "    Applying transformation (1/1): replace-missing-values-with-value(students_reached,0) \n",
      "    ['students_reached'] -> students_reached_clean\n",
      "\n",
      "\n",
      "Running transformations for feature generation\n",
      "    Applying transformation (1/12): categorize-school_city \n",
      "    ['school_city'] -> school_city_categorical\n",
      "    Applying transformation (2/12): categorize-school_state \n",
      "    ['school_state'] -> school_state_categorical\n",
      "    Applying transformation (3/12): categorize-primary_focus_subject \n",
      "    ['primary_focus_subject'] -> primary_focus_subject_categorical\n",
      "    Applying transformation (4/12): categorize-primary_focus_area \n",
      "    ['primary_focus_area'] -> primary_focus_area_categorical\n",
      "    Applying transformation (5/12): categorize-resource_type \n",
      "    ['resource_type'] -> resource_type_categorical\n",
      "    Applying transformation (6/12): categorize-poverty_level \n",
      "    ['poverty_level'] -> poverty_level_categorical\n",
      "    Applying transformation (7/12): categorize-grade_level \n",
      "    ['grade_level'] -> grade_level_categorical\n",
      "    Applying transformation (8/12): binarize-school_charter \n",
      "    ['school_charter'] -> school_charter_binary\n",
      "    Applying transformation (9/12): binarize-school_magnet \n",
      "    ['school_magnet'] -> school_magnet_binary\n",
      "    Applying transformation (10/12): scale-by-max(students_reached_clean) \n",
      "    ['students_reached_clean'] -> students_reached_clean_scaled\n",
      "    Applying transformation (11/12): scale-by-max(total_price_including_optional_support) \n",
      "    ['total_price_including_optional_support'] -> total_price_including_optional_support_scaled\n",
      "    Applying transformation (12/12): binarize-eligible_double_your_impact_match \n",
      "    ['eligible_double_your_impact_match'] -> eligible_double_your_impact_match_binary\n",
      "\n"
     ]
    }
   ],
   "source": [
    "pipeline = pipeline.clean_data()          \\\n",
    "                   .generate_test_train() \\\n",
    "                   .preprocess_data()     \\\n",
    "                   .generate_features()"
   ]
  },
  {
   "cell_type": "markdown",
   "metadata": {},
   "source": [
    "# 3/ train $k$-means models"
   ]
  },
  {
   "cell_type": "code",
   "execution_count": 7,
   "metadata": {},
   "outputs": [
    {
     "name": "stdout",
     "output_type": "stream",
     "text": [
      "Training models.\n",
      "Features: ['school_city_categorical', 'grade_level_categorical', 'total_price_including_optional_support_scaled', 'resource_type_categorical', 'primary_focus_subject_categorical', 'school_state_categorical', 'primary_focus_area_categorical', 'school_charter_binary', 'eligible_double_your_impact_match_binary', 'school_magnet_binary', 'students_reached_clean_scaled', 'poverty_level_categorical']\n",
      "Fitting: funded_in_60_days\n",
      "    Training model KMeans-n_clusters5\n",
      "        Training on training set \"split 0\" (1/3)\n",
      "        Training on training set \"split 1\" (2/3)\n",
      "        Training on training set \"split 2\" (3/3)\n",
      "    Training model KMeans-n_clusters10\n",
      "        Training on training set \"split 0\" (1/3)\n",
      "        Training on training set \"split 1\" (2/3)\n",
      "        Training on training set \"split 2\" (3/3)\n",
      "    Training model KMeans-n_clusters50\n",
      "        Training on training set \"split 0\" (1/3)\n",
      "        Training on training set \"split 1\" (2/3)\n",
      "        Training on training set \"split 2\" (3/3)\n",
      "    Training model KMeans-n_clusters100\n",
      "        Training on training set \"split 0\" (1/3)\n",
      "        Training on training set \"split 1\" (2/3)\n",
      "        Training on training set \"split 2\" (3/3)\n",
      "    Training model KMeans-n_clusters200\n",
      "        Training on training set \"split 0\" (1/3)\n",
      "        Training on training set \"split 1\" (2/3)\n",
      "        Training on training set \"split 2\" (3/3)\n",
      "    Training model KMeans-n_clusters500\n",
      "        Training on training set \"split 0\" (1/3)\n",
      "        Training on training set \"split 1\" (2/3)\n",
      "        Training on training set \"split 2\" (3/3)\n"
     ]
    }
   ],
   "source": [
    "pipeline = pipeline.run_model_grid()"
   ]
  },
  {
   "cell_type": "markdown",
   "metadata": {},
   "source": [
    "### use elbow method to determine optimal value of $k$"
   ]
  },
  {
   "cell_type": "code",
   "execution_count": 37,
   "metadata": {},
   "outputs": [
    {
     "data": {
      "image/png": "[encoded data removed]",
      "text/plain": [
       "<Figure size 432x288 with 1 Axes>"
      ]
     },
     "metadata": {
      "needs_background": "light"
     },
     "output_type": "display_data"
    }
   ],
   "source": [
    "k_values = []\n",
    "distortions = []\n",
    "X = pipeline.test_sets[-1][pipeline.features]\n",
    "X_ = pipeline.train_sets[-1][pipeline.features]\n",
    "\n",
    "for (description, models) in pipeline.trained_models.items():\n",
    "    model = models[-1]\n",
    "    k_values.append(model.n_clusters)\n",
    "    distortions.append(sum(np.min(cdist(X, model.cluster_centers_, 'euclidean'), axis=1)) / X.shape[0])\n",
    "\n",
    "plt.plot(k_values, distortions, 'ko-')\n",
    "plt.xlabel('k')\n",
    "plt.ylabel('Distortion')\n",
    "plt.show()\n"
   ]
  },
  {
   "cell_type": "markdown",
   "metadata": {},
   "source": [
    "### from the graph above, the optimal value of $k$ is 50. \n",
    "\n",
    "# 4/ per-cluster statistics\n",
    "\n",
    "### choose the clustering model with 50 clusters trained on the largest dataset, and choose a cluster label to summarize"
   ]
  },
  {
   "cell_type": "code",
   "execution_count": 49,
   "metadata": {},
   "outputs": [
    {
     "data": {
      "text/html": [
       "<div>\n",
       "<style scoped>\n",
       "    .dataframe tbody tr th:only-of-type {\n",
       "        vertical-align: middle;\n",
       "    }\n",
       "\n",
       "    .dataframe tbody tr th {\n",
       "        vertical-align: top;\n",
       "    }\n",
       "\n",
       "    .dataframe thead th {\n",
       "        text-align: right;\n",
       "    }\n",
       "</style>\n",
       "<table border=\"1\" class=\"dataframe\">\n",
       "  <thead>\n",
       "    <tr style=\"text-align: right;\">\n",
       "      <th></th>\n",
       "      <th>school_city_categorical</th>\n",
       "      <th>grade_level_categorical</th>\n",
       "      <th>total_price_including_optional_support_scaled</th>\n",
       "      <th>resource_type_categorical</th>\n",
       "      <th>primary_focus_subject_categorical</th>\n",
       "      <th>school_state_categorical</th>\n",
       "      <th>primary_focus_area_categorical</th>\n",
       "      <th>school_charter_binary</th>\n",
       "      <th>eligible_double_your_impact_match_binary</th>\n",
       "      <th>school_magnet_binary</th>\n",
       "      <th>students_reached_clean_scaled</th>\n",
       "      <th>poverty_level_categorical</th>\n",
       "    </tr>\n",
       "  </thead>\n",
       "  <tbody>\n",
       "    <tr>\n",
       "      <th>count</th>\n",
       "      <td>1317.000000</td>\n",
       "      <td>1317.000000</td>\n",
       "      <td>1317.000000</td>\n",
       "      <td>1317.000000</td>\n",
       "      <td>1317.000000</td>\n",
       "      <td>1317.000000</td>\n",
       "      <td>1317.000000</td>\n",
       "      <td>1317.000000</td>\n",
       "      <td>1317.000000</td>\n",
       "      <td>1317.000000</td>\n",
       "      <td>1317.000000</td>\n",
       "      <td>1317.000000</td>\n",
       "    </tr>\n",
       "    <tr>\n",
       "      <th>mean</th>\n",
       "      <td>3669.630220</td>\n",
       "      <td>1.594533</td>\n",
       "      <td>0.006409</td>\n",
       "      <td>1.828398</td>\n",
       "      <td>14.345482</td>\n",
       "      <td>20.481397</td>\n",
       "      <td>3.231587</td>\n",
       "      <td>0.151860</td>\n",
       "      <td>0.161731</td>\n",
       "      <td>0.076689</td>\n",
       "      <td>0.006976</td>\n",
       "      <td>1.135156</td>\n",
       "    </tr>\n",
       "    <tr>\n",
       "      <th>std</th>\n",
       "      <td>16.880073</td>\n",
       "      <td>1.249766</td>\n",
       "      <td>0.006824</td>\n",
       "      <td>1.138981</td>\n",
       "      <td>6.145513</td>\n",
       "      <td>15.103261</td>\n",
       "      <td>1.330712</td>\n",
       "      <td>0.359022</td>\n",
       "      <td>0.368344</td>\n",
       "      <td>0.266199</td>\n",
       "      <td>0.010441</td>\n",
       "      <td>0.858509</td>\n",
       "    </tr>\n",
       "    <tr>\n",
       "      <th>min</th>\n",
       "      <td>3622.000000</td>\n",
       "      <td>0.000000</td>\n",
       "      <td>0.001061</td>\n",
       "      <td>-1.000000</td>\n",
       "      <td>-1.000000</td>\n",
       "      <td>2.000000</td>\n",
       "      <td>-1.000000</td>\n",
       "      <td>0.000000</td>\n",
       "      <td>0.000000</td>\n",
       "      <td>0.000000</td>\n",
       "      <td>0.000329</td>\n",
       "      <td>0.000000</td>\n",
       "    </tr>\n",
       "    <tr>\n",
       "      <th>25%</th>\n",
       "      <td>3657.000000</td>\n",
       "      <td>0.000000</td>\n",
       "      <td>0.003364</td>\n",
       "      <td>1.000000</td>\n",
       "      <td>13.000000</td>\n",
       "      <td>4.000000</td>\n",
       "      <td>3.000000</td>\n",
       "      <td>0.000000</td>\n",
       "      <td>0.000000</td>\n",
       "      <td>0.000000</td>\n",
       "      <td>0.001976</td>\n",
       "      <td>1.000000</td>\n",
       "    </tr>\n",
       "    <tr>\n",
       "      <th>50%</th>\n",
       "      <td>3677.000000</td>\n",
       "      <td>2.000000</td>\n",
       "      <td>0.005050</td>\n",
       "      <td>2.000000</td>\n",
       "      <td>15.000000</td>\n",
       "      <td>23.000000</td>\n",
       "      <td>3.000000</td>\n",
       "      <td>0.000000</td>\n",
       "      <td>0.000000</td>\n",
       "      <td>0.000000</td>\n",
       "      <td>0.002553</td>\n",
       "      <td>1.000000</td>\n",
       "    </tr>\n",
       "    <tr>\n",
       "      <th>75%</th>\n",
       "      <td>3682.000000</td>\n",
       "      <td>3.000000</td>\n",
       "      <td>0.007598</td>\n",
       "      <td>3.000000</td>\n",
       "      <td>17.000000</td>\n",
       "      <td>27.000000</td>\n",
       "      <td>4.000000</td>\n",
       "      <td>0.000000</td>\n",
       "      <td>0.000000</td>\n",
       "      <td>0.000000</td>\n",
       "      <td>0.007906</td>\n",
       "      <td>1.000000</td>\n",
       "    </tr>\n",
       "    <tr>\n",
       "      <th>max</th>\n",
       "      <td>3699.000000</td>\n",
       "      <td>3.000000</td>\n",
       "      <td>0.118814</td>\n",
       "      <td>4.000000</td>\n",
       "      <td>26.000000</td>\n",
       "      <td>49.000000</td>\n",
       "      <td>6.000000</td>\n",
       "      <td>1.000000</td>\n",
       "      <td>1.000000</td>\n",
       "      <td>1.000000</td>\n",
       "      <td>0.082270</td>\n",
       "      <td>3.000000</td>\n",
       "    </tr>\n",
       "  </tbody>\n",
       "</table>\n",
       "</div>"
      ],
      "text/plain": [
       "       school_city_categorical  grade_level_categorical  \\\n",
       "count              1317.000000              1317.000000   \n",
       "mean               3669.630220                 1.594533   \n",
       "std                  16.880073                 1.249766   \n",
       "min                3622.000000                 0.000000   \n",
       "25%                3657.000000                 0.000000   \n",
       "50%                3677.000000                 2.000000   \n",
       "75%                3682.000000                 3.000000   \n",
       "max                3699.000000                 3.000000   \n",
       "\n",
       "       total_price_including_optional_support_scaled  \\\n",
       "count                                    1317.000000   \n",
       "mean                                        0.006409   \n",
       "std                                         0.006824   \n",
       "min                                         0.001061   \n",
       "25%                                         0.003364   \n",
       "50%                                         0.005050   \n",
       "75%                                         0.007598   \n",
       "max                                         0.118814   \n",
       "\n",
       "       resource_type_categorical  primary_focus_subject_categorical  \\\n",
       "count                1317.000000                        1317.000000   \n",
       "mean                    1.828398                          14.345482   \n",
       "std                     1.138981                           6.145513   \n",
       "min                    -1.000000                          -1.000000   \n",
       "25%                     1.000000                          13.000000   \n",
       "50%                     2.000000                          15.000000   \n",
       "75%                     3.000000                          17.000000   \n",
       "max                     4.000000                          26.000000   \n",
       "\n",
       "       school_state_categorical  primary_focus_area_categorical  \\\n",
       "count               1317.000000                     1317.000000   \n",
       "mean                  20.481397                        3.231587   \n",
       "std                   15.103261                        1.330712   \n",
       "min                    2.000000                       -1.000000   \n",
       "25%                    4.000000                        3.000000   \n",
       "50%                   23.000000                        3.000000   \n",
       "75%                   27.000000                        4.000000   \n",
       "max                   49.000000                        6.000000   \n",
       "\n",
       "       school_charter_binary  eligible_double_your_impact_match_binary  \\\n",
       "count            1317.000000                               1317.000000   \n",
       "mean                0.151860                                  0.161731   \n",
       "std                 0.359022                                  0.368344   \n",
       "min                 0.000000                                  0.000000   \n",
       "25%                 0.000000                                  0.000000   \n",
       "50%                 0.000000                                  0.000000   \n",
       "75%                 0.000000                                  0.000000   \n",
       "max                 1.000000                                  1.000000   \n",
       "\n",
       "       school_magnet_binary  students_reached_clean_scaled  \\\n",
       "count           1317.000000                    1317.000000   \n",
       "mean               0.076689                       0.006976   \n",
       "std                0.266199                       0.010441   \n",
       "min                0.000000                       0.000329   \n",
       "25%                0.000000                       0.001976   \n",
       "50%                0.000000                       0.002553   \n",
       "75%                0.000000                       0.007906   \n",
       "max                1.000000                       0.082270   \n",
       "\n",
       "       poverty_level_categorical  \n",
       "count                1317.000000  \n",
       "mean                    1.135156  \n",
       "std                     0.858509  \n",
       "min                     0.000000  \n",
       "25%                     1.000000  \n",
       "50%                     1.000000  \n",
       "75%                     1.000000  \n",
       "max                     3.000000  "
      ]
     },
     "execution_count": 49,
     "metadata": {},
     "output_type": "execute_result"
    }
   ],
   "source": [
    "model = pipeline.trained_models['KMeans-n_clusters50'][-1]\n",
    "\n",
    "cluster_labels = [15]\n",
    "clusters = pd.DataFrame({'data_index': X_.index.values, 'label': model.labels_})\n",
    "\n",
    "X_.loc[clusters[clusters.label.isin(cluster_labels)].data_index].describe()"
   ]
  },
  {
   "cell_type": "markdown",
   "metadata": {},
   "source": [
    "# 5/ user interaction\n",
    "\n",
    "## A/ merge several clusters into 1: \n",
    "add cluster index to `cluster_labels` in the cell above\n",
    "\n",
    "## B/ recluster with a new $k$:\n",
    "override the values of $k$ in the variable `k_overrides` in the top of the notebook\n",
    "\n",
    "## C/ split a specific cluster into many\n",
    "use the above cell to generate a dataframe with the specific cluster and create a new `Pipeline` object with the `input_source` set to the dataframe"
   ]
  },
  {
   "cell_type": "code",
   "execution_count": null,
   "metadata": {},
   "outputs": [],
   "source": []
  }
 ],
 "metadata": {
  "kernelspec": {
   "display_name": ".venv",
   "language": "python",
   "name": ".venv"
  },
  "language_info": {
   "codemirror_mode": {
    "name": "ipython",
    "version": 3
   },
   "file_extension": ".py",
   "mimetype": "text/x-python",
   "name": "python",
   "nbconvert_exporter": "python",
   "pygments_lexer": "ipython3",
   "version": "3.7.3"
  }
 },
 "nbformat": 4,
 "nbformat_minor": 2
}
